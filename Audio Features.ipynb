{
 "cells": [
  {
   "cell_type": "code",
   "execution_count": 1,
   "metadata": {},
   "outputs": [],
   "source": [
    "import pandas as pd\n",
    "import matplotlib.pyplot as plt\n",
    "\n",
    "import json"
   ]
  },
  {
   "cell_type": "code",
   "execution_count": 6,
   "metadata": {},
   "outputs": [
    {
     "data": {
      "text/plain": [
       "[{'danceability': 0.825,\n",
       "  'energy': 0.561,\n",
       "  'key': 10,\n",
       "  'loudness': -7.67,\n",
       "  'mode': 0,\n",
       "  'speechiness': 0.0489,\n",
       "  'acousticness': 0.0608,\n",
       "  'instrumentalness': 0.803,\n",
       "  'liveness': 0.159,\n",
       "  'valence': 0.559,\n",
       "  'tempo': 121.993,\n",
       "  'type': 'audio_features',\n",
       "  'id': '7KCfp7dg5VbQLBaiOthW6s',\n",
       "  'uri': 'spotify:track:7KCfp7dg5VbQLBaiOthW6s',\n",
       "  'track_href': 'https://api.spotify.com/v1/tracks/7KCfp7dg5VbQLBaiOthW6s',\n",
       "  'analysis_url': 'https://api.spotify.com/v1/audio-analysis/7KCfp7dg5VbQLBaiOthW6s',\n",
       "  'duration_ms': 417078,\n",
       "  'time_signature': 4}]"
      ]
     },
     "execution_count": 6,
     "metadata": {},
     "output_type": "execute_result"
    }
   ],
   "source": [
    "with open(\"test/samples/audio_features.json\", encoding=\"utf-8\") as f:\n",
    "    feature_dict = json.load(f)\n",
    "    \n",
    "feature_dict"
   ]
  },
  {
   "cell_type": "code",
   "execution_count": 7,
   "metadata": {},
   "outputs": [],
   "source": [
    "features = pd.Series(feature_dict[0])"
   ]
  },
  {
   "cell_type": "code",
   "execution_count": 8,
   "metadata": {},
   "outputs": [
    {
     "data": {
      "text/plain": [
       "danceability                                                    0.825\n",
       "energy                                                          0.561\n",
       "key                                                                10\n",
       "loudness                                                        -7.67\n",
       "mode                                                                0\n",
       "speechiness                                                    0.0489\n",
       "acousticness                                                   0.0608\n",
       "instrumentalness                                                0.803\n",
       "liveness                                                        0.159\n",
       "valence                                                         0.559\n",
       "tempo                                                         121.993\n",
       "type                                                   audio_features\n",
       "id                                             7KCfp7dg5VbQLBaiOthW6s\n",
       "uri                              spotify:track:7KCfp7dg5VbQLBaiOthW6s\n",
       "track_href          https://api.spotify.com/v1/tracks/7KCfp7dg5VbQ...\n",
       "analysis_url        https://api.spotify.com/v1/audio-analysis/7KCf...\n",
       "duration_ms                                                    417078\n",
       "time_signature                                                      4\n",
       "dtype: object"
      ]
     },
     "execution_count": 8,
     "metadata": {},
     "output_type": "execute_result"
    }
   ],
   "source": [
    "features"
   ]
  },
  {
   "cell_type": "code",
   "execution_count": 11,
   "metadata": {},
   "outputs": [],
   "source": [
    "feature_cols = [\"danceability\",\"valence\",\"speechiness\",\"acousticness\",\"instrumentalness\",\"liveness\"]"
   ]
  },
  {
   "cell_type": "code",
   "execution_count": 16,
   "metadata": {},
   "outputs": [
    {
     "data": {
      "text/plain": [
       "<AxesSubplot:>"
      ]
     },
     "execution_count": 16,
     "metadata": {},
     "output_type": "execute_result"
    },
    {
     "data": {
      "image/png": "[encoded data removed]",
      "text/plain": [
       "<Figure size 432x288 with 1 Axes>"
      ]
     },
     "metadata": {},
     "output_type": "display_data"
    }
   ],
   "source": [
    "features[feature_cols].plot(kind=\"bar\", cmap=\"prism\")"
   ]
  },
  {
   "cell_type": "code",
   "execution_count": 17,
   "metadata": {},
   "outputs": [],
   "source": [
    "with open('test/samples/playlist.json') as f:\n",
    "    playlist_response = json.load(f)"
   ]
  },
  {
   "cell_type": "code",
   "execution_count": 18,
   "metadata": {},
   "outputs": [],
   "source": [
    "from src.app.scripts.data import Playlist"
   ]
  },
  {
   "cell_type": "code",
   "execution_count": 20,
   "metadata": {},
   "outputs": [],
   "source": [
    "playlist = Playlist.from_response(playlist_response)"
   ]
  },
  {
   "cell_type": "code",
   "execution_count": 27,
   "metadata": {},
   "outputs": [
    {
     "data": {
      "text/plain": [
       "7KCfp7dg5VbQLBaiOthW6s      417\n",
       "0yuJtvXsapVOQfNDYxQ5mw      838\n",
       "0lwUE9DGjdbbuwbPbxZyzw     1331\n",
       "5jZ43lLztIcfPNdhYuHtGj     1856\n",
       "5dOFu5i4epnNC7jFqBSjbE     2242\n",
       "                          ...  \n",
       "7qUYJ02MjNuOKFdeKdZFA2    40505\n",
       "3FV1zVLMiz3yOmmUGgTlfW    40972\n",
       "18Cxuyt0W5ChNEnSWqgUmT    41368\n",
       "3wqfEIZTDZhGmW7iqmne8V    41923\n",
       "4nxAZSsAGMlVzsBXPHsB6t    42188\n",
       "Name: Duration, Length: 100, dtype: object"
      ]
     },
     "execution_count": 27,
     "metadata": {},
     "output_type": "execute_result"
    }
   ],
   "source": [
    "playlist.summary()[\"Duration\"].cumsum()"
   ]
  },
  {
   "cell_type": "code",
   "execution_count": 29,
   "metadata": {},
   "outputs": [
    {
     "data": {
      "text/plain": [
       "array([417, 421, 493, 525, 386, 308, 499, 377, 556, 650, 388, 215, 381,\n",
       "       629, 355, 363, 323, 461, 445, 816, 348, 424, 478, 374, 456, 370,\n",
       "       431, 437, 381, 530, 337, 342, 565, 388, 361, 388, 418, 408, 465,\n",
       "       434, 309, 526, 347, 460, 489, 530, 356, 284, 445, 517, 439, 382,\n",
       "       595, 519, 451, 367, 417, 344, 349, 778, 367, 580, 765, 341, 344,\n",
       "       398, 383, 468, 346, 372, 400, 206, 366, 459, 206, 370, 217, 468,\n",
       "       404, 444, 448, 422, 563, 480, 460, 521, 240, 444, 288, 540, 303,\n",
       "       259, 437, 334, 353, 262, 467, 396, 555, 265], dtype=object)"
      ]
     },
     "execution_count": 29,
     "metadata": {},
     "output_type": "execute_result"
    }
   ],
   "source": [
    "playlist.summary()[\"Duration\"].values"
   ]
  },
  {
   "cell_type": "code",
   "execution_count": 32,
   "metadata": {},
   "outputs": [],
   "source": [
    "import numpy as np"
   ]
  },
  {
   "cell_type": "code",
   "execution_count": 31,
   "metadata": {},
   "outputs": [
    {
     "data": {
      "text/plain": [
       "<matplotlib.collections.PolyCollection at 0x28fcf9a6080>"
      ]
     },
     "execution_count": 31,
     "metadata": {},
     "output_type": "execute_result"
    },
    {
     "data": {
      "image/png": "[encoded data removed]",
      "text/plain": [
       "<Figure size 432x288 with 1 Axes>"
      ]
     },
     "metadata": {},
     "output_type": "display_data"
    }
   ],
   "source": [
    "plt.fill_between(x=list(playlist.summary()[\"Duration\"].cumsum()), y1=list(playlist.summary()[\"Duration\"].values))"
   ]
  },
  {
   "cell_type": "code",
   "execution_count": null,
   "metadata": {},
   "outputs": [],
   "source": []
  }
 ],
 "metadata": {
  "interpreter": {
   "hash": "1d1531df12a5f0893d8c357b2623558cb1e382276e1e7f7be7518f59056d80f5"
  },
  "kernelspec": {
   "display_name": "Python 3.10.2 ('spotify')",
   "language": "python",
   "name": "python3"
  },
  "language_info": {
   "codemirror_mode": {
    "name": "ipython",
    "version": 3
   },
   "file_extension": ".py",
   "mimetype": "text/x-python",
   "name": "python",
   "nbconvert_exporter": "python",
   "pygments_lexer": "ipython3",
   "version": "3.10.2"
  },
  "orig_nbformat": 4
 },
 "nbformat": 4,
 "nbformat_minor": 2
}
